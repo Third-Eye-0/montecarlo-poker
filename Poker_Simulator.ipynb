{
  "nbformat": 4,
  "nbformat_minor": 0,
  "metadata": {
    "colab": {
      "provenance": []
    },
    "kernelspec": {
      "name": "python3",
      "display_name": "Python 3"
    },
    "language_info": {
      "name": "python"
    }
  },
  "cells": [
    {
      "cell_type": "code",
      "execution_count": 12,
      "metadata": {
        "id": "sNf7L1Wq2CYC"
      },
      "outputs": [],
      "source": [
        "import numpy as np\n",
        "import pandas as pd\n",
        "import matplotlib.pyplot as plt\n",
        "import math\n",
        "from collections import Counter"
      ]
    },
    {
      "cell_type": "code",
      "source": [
        "suits=['S','D','C','H']\n",
        "ranks=['A','2','3','4','5','6','7','8','9','10','J','Q','K']\n",
        "rank_value={'2': 2, '3': 3, '4': 4, '5': 5, '6': 6,'7': 7, '8': 8, '9': 9, '10': 10,'J': 11, 'Q': 12, 'K': 13, 'A': 14}\n",
        "hand_names = { 10: \"Royal Flush\",9: \"Straight Flush\",8: \"Four of a Kind\",7: \"Full House\",6: \"Flush\",5: \"Straight\",4: \"Three of a Kind\",3: \"Two Pair\",2: \"One Pair\",1: \"High Card\" }\n",
        "deck=[r+s for s in suits for r in ranks]"
      ],
      "metadata": {
        "id": "lfQY79se2J1s"
      },
      "execution_count": 13,
      "outputs": []
    },
    {
      "cell_type": "markdown",
      "source": [
        "The 'shuffle()' function creates a shuffled deck of 52 cards.  \n",
        "It keeps the original deck intact and returns a new randomly ordered deck.  \n",
        "We use 'np.random.shuffle()' for randomization."
      ],
      "metadata": {
        "id": "6mleU40J4ci8"
      }
    },
    {
      "cell_type": "code",
      "source": [
        "def shuffle():\n",
        "    p=deck.copy()\n",
        "    np.random.shuffle(p)\n",
        "    return p"
      ],
      "metadata": {
        "id": "9L76YaBI2J2q"
      },
      "execution_count": 14,
      "outputs": []
    },
    {
      "cell_type": "markdown",
      "source": [
        "The 'dealing()' function deals cards to opponents and completes the community cards.  \n",
        "\n",
        "- Removes user's hand and any pre-dealt community cards from the deck.  \n",
        "- Deals 2 cards to each opponent.  \n",
        "- Completes the community cards to a total of 5 cards.  \n",
        "\n",
        "Inputs:\n",
        "- Shuffled deck\n",
        "- Number of players\n",
        "- User's hand\n",
        "- Optional pre-dealt community cards (flop/turn)\n",
        "\n",
        "Outputs:\n",
        "- Opponent hands\n",
        "- Complete community cards"
      ],
      "metadata": {
        "id": "Lbvm9Ohs5DnD"
      }
    },
    {
      "cell_type": "code",
      "source": [
        "def dealing(s_deck,n,hand_card, community_cards=[]):\n",
        "    for card in hand_card:\n",
        "        s_deck.remove(card)\n",
        "    for card in community_cards:\n",
        "        if card in s_deck: # Check if card is still in the deck before removing\n",
        "            s_deck.remove(card)\n",
        "    opponents=[]\n",
        "    for i in range(1,n):\n",
        "        l=[s_deck.pop(),s_deck.pop()]\n",
        "        opponents.append(l)\n",
        "    remaining_community_cards_to_deal = 5 - len(community_cards)\n",
        "    community = community_cards + [s_deck.pop() for i in range(remaining_community_cards_to_deal)]\n",
        "    return opponents,community"
      ],
      "metadata": {
        "id": "bPRYFE0c2Oli"
      },
      "execution_count": 15,
      "outputs": []
    },
    {
      "cell_type": "markdown",
      "source": [
        "The 'card_merging()' function combines the player's hand with the community cards.  \n",
        "The resulting list of cards is used to evaluate the best poker hand."
      ],
      "metadata": {
        "id": "IiSUkgBW59OU"
      }
    },
    {
      "cell_type": "code",
      "source": [
        "def card_merging(card,community):\n",
        "    return card+community"
      ],
      "metadata": {
        "id": "r8L914Dr2Tdq"
      },
      "execution_count": 16,
      "outputs": []
    },
    {
      "cell_type": "markdown",
      "source": [
        "The 'evaluate()' function evaluates a list of 5-7 cards and determines the best poker hand according to Texas Hold'em rules.  \n",
        "\n",
        "It handles:\n",
        "- High Card, One Pair, Two Pair, Three of a Kind\n",
        "- Straight, Flush, Full House, Four of a Kind\n",
        "- Straight Flush and Royal Flush\n",
        "\n",
        "It returns:\n",
        "- Hand rank (numeric, 1-10)\n",
        "- Rank values for tie-breaking\n",
        "- Human-readable hand name"
      ],
      "metadata": {
        "id": "G1wP4fs76HR0"
      }
    },
    {
      "cell_type": "code",
      "source": [
        "def evaluate(cards):\n",
        "    values=[c[:-1] for c in cards]\n",
        "    suits=[c[-1] for c in cards]\n",
        "    nums=sorted([rank_value[v] for v in values],reverse=True)\n",
        "    value_count=Counter(nums)\n",
        "    suit_count=Counter(suits)\n",
        "    sorted_counts=sorted(value_count.items(),key=lambda x: (x[1],x[0]),reverse=True)\n",
        "    flush_suit=None\n",
        "    for s,count in suit_count.items():\n",
        "        if count>=5:\n",
        "            flush_suit=s\n",
        "            break\n",
        "    unique_values=sorted(set(nums),reverse=True)\n",
        "    is_straight,top_straight=False,None\n",
        "    if len(unique_values)>=5:\n",
        "        for i in range(len(unique_values)-4):\n",
        "            w=unique_values[i:i+5]\n",
        "            if all(w[j]-1==w[j+1] for j in range(4)):\n",
        "                is_straight=True\n",
        "                top_straight=w[0]\n",
        "                break\n",
        "        if {14,2,3,4,5}.issubset(set(nums)):\n",
        "            is_straight=True\n",
        "            top_straight=5\n",
        "    if flush_suit:\n",
        "        flush_num=sorted([rank_value[c[:-1]] for c in cards if c[-1]==flush_suit],reverse=True)\n",
        "        flush_unique=sorted(set(flush_num),reverse=True)\n",
        "        if len(flush_unique)>=5:\n",
        "            for i in range(len(flush_unique)-4):\n",
        "                w=flush_unique[i:i+5]\n",
        "                if all(w[j]-1==w[j+1] for j in range(4)):\n",
        "                    if w[0]==14:\n",
        "                        return (10,[14],hand_names[10])\n",
        "                    return (9,[w[0]],hand_names[9])\n",
        "            if {14,2,3,4,5}.issubset(set(flush_unique)):\n",
        "                return (9,[5],hand_names[9])\n",
        "    if sorted_counts[0][1]==4:\n",
        "        p=sorted_counts[0][0]\n",
        "        q=max([v for v in nums if v!=p])\n",
        "        return (8,[p,q],hand_names[8])\n",
        "    if sorted_counts[0][1]==3 and sorted_counts[1][1]>=2:\n",
        "        p=sorted_counts[0][0]\n",
        "        q=sorted_counts[1][0]\n",
        "        return (7,[p,q],hand_names[7])\n",
        "    if flush_suit:\n",
        "        return(6,flush_num[:5],hand_names[6])\n",
        "    if is_straight:\n",
        "        return(5,[top_straight],hand_names[5])\n",
        "    if sorted_counts[0][1]==3:\n",
        "        p=sorted_counts[0][0]\n",
        "        q=sorted([v for v in nums if v!=p], reverse=True)[:2]\n",
        "        return (4,[p]+q,hand_names[4])\n",
        "    if sorted_counts[0][1]==2 and sorted_counts[1][1]==2:\n",
        "        p=sorted_counts[0][0]\n",
        "        q=sorted_counts[1][0]\n",
        "        r=max([v for v in nums if v not in (p,q)])\n",
        "        return (3,[p,q,r],hand_names[3])\n",
        "    if sorted_counts[0][1]==2:\n",
        "        p=sorted_counts[0][0]\n",
        "        q=sorted([v for v in nums if v!=p],reverse=True)[:3]\n",
        "        return (2,[p]+q,hand_names[2])\n",
        "    return (1,nums[:5],hand_names[1])"
      ],
      "metadata": {
        "id": "QDtbs-VD2dwL"
      },
      "execution_count": 17,
      "outputs": []
    },
    {
      "cell_type": "markdown",
      "source": [
        "The 'montecarlo()' function simulates thousands of games to estimate the probabilities of winning, tying, or losing for a given hand.  \n",
        "\n",
        "- Randomly shuffles the deck and deals cards to opponents.  \n",
        "- Evaluates the user's hand against all opponents.  \n",
        "- Tracks win/tie/lose statistics and hand type distribution.  \n",
        "\n",
        "Inputs:\n",
        "- Deck of cards\n",
        "- Number of players\n",
        "- User hand\n",
        "- Known community cards (optional)\n",
        "- Number of simulations\n",
        "\n",
        "Outputs:\n",
        "- DataFrame with simulation results\n",
        "- Estimated win, tie, lose probabilities\n",
        "- Distribution of user's hand types"
      ],
      "metadata": {
        "id": "77KsH0G86Q6z"
      }
    },
    {
      "cell_type": "code",
      "source": [
        "def montecarlo(deck, n, hand_card, pre_dealt_community_cards=[], s_count=10000):\n",
        "    results=[]\n",
        "    win_count=0\n",
        "    tie_count=0\n",
        "    for i in range(s_count):\n",
        "        s_deck=shuffle()\n",
        "        opponents,community=dealing(s_deck, n, hand_card, pre_dealt_community_cards)\n",
        "        user_eval=evaluate(card_merging(hand_card, community))\n",
        "        opp_evals=[evaluate(card_merging(o, community)) for o in opponents]\n",
        "        all_evals=[user_eval]+opp_evals\n",
        "        max_eval=max(all_evals)\n",
        "        winners=[i for i,j in enumerate(all_evals) if j==max_eval]\n",
        "        if 0 in winners:\n",
        "            if len(winners)==1:\n",
        "                win_count+=1\n",
        "                result='Win'\n",
        "            else:\n",
        "                tie_count+=1\n",
        "                result='Tie'\n",
        "        else:\n",
        "            result='Lose'\n",
        "        results.append({\"Simulation\": i,\"User Hand\": user_eval[2],\"Opponent Hands\": [ev[2] for ev in opp_evals],\"Result\": result})\n",
        "\n",
        "    df=pd.DataFrame(results)\n",
        "    ev_win=win_count/s_count\n",
        "    ev_tie=tie_count/s_count\n",
        "    ev_lose=1-ev_win-ev_tie\n",
        "    hand_count=df[\"User Hand\"].value_counts(normalize=True)*100\n",
        "    hand_distribution = hand_count.to_dict()\n",
        "\n",
        "    return df, ev_win, ev_tie, ev_lose, hand_distribution"
      ],
      "metadata": {
        "id": "8O4MxYaA2jRD"
      },
      "execution_count": 18,
      "outputs": []
    },
    {
      "cell_type": "code",
      "source": [
        "u_input = input(\"Enter your hand cards in the format 'Rank+suits': \")\n",
        "n = int(input('Enter number of players: '))\n",
        "hand_card = u_input.split()\n",
        "\n",
        "if len(hand_card) != 2:\n",
        "    raise ValueError(\"You must enter exactly 2 cards for Texas Hold'em.\")\n",
        "\n",
        "community_cards = []\n",
        "\n",
        "flop_input = input(\"Enter the flop cards (3 cards) in the format 'Rank+suits Rank+suits Rank+suits': \")\n",
        "flop_cards = flop_input.split()\n",
        "\n",
        "if len(flop_cards) != 3:\n",
        "    raise ValueError(\"You must enter exactly 3 cards for the flop.\")\n",
        "\n",
        "all_used_cards = set(hand_card)\n",
        "for card in flop_cards:\n",
        "    if card not in deck:\n",
        "        raise ValueError(f\"Invalid card entered: {card}\")\n",
        "    if card in all_used_cards:\n",
        "        raise ValueError(f\"Card already in hand or community cards: {card}\")\n",
        "    community_cards.append(card)\n",
        "    all_used_cards.add(card)\n",
        "\n",
        "print(\"\\n--- After Flop ---\")\n",
        "print(f\"Community cards: {community_cards}\")\n",
        "df, ev_win, ev_tie, ev_lose, hand_distribution = montecarlo(deck, n, hand_card, community_cards, s_count=10000)\n",
        "n_sim = len(df)\n",
        "print(f\"Win Probability: {ev_win*100:.2f}%\")\n",
        "print(f\"Tie Probability: {ev_tie*100:.2f}%\")\n",
        "print(f\"Lose Probability: {ev_lose*100:.2f}%\\n\")\n",
        "ci = 1.96 * math.sqrt(ev_win * (1 - ev_win) / n_sim)\n",
        "print(f\"Win probability 95% CI: {ev_win*100:.2f}% ± {ci*100:.2f}%\")\n",
        "ci_tie = 1.96 * math.sqrt(ev_tie * (1 - ev_tie) / n_sim)\n",
        "print(f\"Tie probability 95% CI: {ci_tie*100:.2f}%\")\n",
        "print(\"User Hand Distribution (percentage over all simulations):\")\n",
        "for i, j in hand_distribution.items():\n",
        "    print(f\"{i}: {j:.2f}%\")"
      ],
      "metadata": {
        "colab": {
          "base_uri": "https://localhost:8080/"
        },
        "id": "fE7fNTHp2nNL",
        "outputId": "00ebe31e-684b-4916-ffd6-e2ba2f5bf1b0"
      },
      "execution_count": 19,
      "outputs": [
        {
          "output_type": "stream",
          "name": "stdout",
          "text": [
            "Enter your hand cards in the format 'Rank+suits': 5H 7D\n",
            "Enter number of players: 2\n",
            "Enter the flop cards (3 cards) in the format 'Rank+suits Rank+suits Rank+suits': KS 7C 9H\n",
            "\n",
            "--- After Flop ---\n",
            "Community cards: ['KS', '7C', '9H']\n",
            "Win Probability: 58.14%\n",
            "Tie Probability: 4.08%\n",
            "Lose Probability: 37.78%\n",
            "\n",
            "Win probability 95% CI: 58.14% ± 0.97%\n",
            "Tie probability 95% CI: 0.39%\n",
            "User Hand Distribution (percentage over all simulations):\n",
            "One Pair: 50.99%\n",
            "Two Pair: 37.68%\n",
            "Three of a Kind: 7.14%\n",
            "Full House: 2.67%\n",
            "Straight: 1.43%\n",
            "Four of a Kind: 0.09%\n"
          ]
        }
      ]
    },
    {
      "cell_type": "code",
      "source": [
        "plt.bar(hand_distribution.keys(),hand_distribution.values())\n",
        "plt.xticks(rotation=45)\n",
        "plt.ylabel(\"Percentage\")\n",
        "plt.title(\"User Hand Distribution (After Flop)\")\n",
        "plt.show()"
      ],
      "metadata": {
        "colab": {
          "base_uri": "https://localhost:8080/",
          "height": 523
        },
        "id": "2JaJih9g2x_T",
        "outputId": "747ff712-63df-4562-e609-4e6ee3a570e4"
      },
      "execution_count": 20,
      "outputs": [
        {
          "output_type": "display_data",
          "data": {
            "text/plain": [
              "<Figure size 640x480 with 1 Axes>"
            ],
            "image/png": "[encoded data removed]"
          },
          "metadata": {}
        }
      ]
    },
    {
      "cell_type": "code",
      "source": [
        "turn_input = input(\"\\nEnter the turn card (1 card) in the format 'Rank+suits': \")\n",
        "turn_card = turn_input.split()\n",
        "\n",
        "if len(turn_card) != 1:\n",
        "    raise ValueError(\"You must enter exactly 1 card for the turn.\")\n",
        "\n",
        "turn_card = turn_card[0]\n",
        "all_used_cards = set(hand_card + community_cards)\n",
        "if turn_card not in deck:\n",
        "    raise ValueError(f\"Invalid card entered: {turn_card}\")\n",
        "if turn_card in all_used_cards:\n",
        "    raise ValueError(f\"Card already in hand or community cards: {turn_card}\")\n",
        "\n",
        "community_cards.append(turn_card)\n",
        "\n",
        "print(\"\\n--- After Turn ---\")\n",
        "print(f\"Community cards: {community_cards}\")\n",
        "df, ev_win, ev_tie, ev_lose, hand_distribution = montecarlo(deck, n, hand_card, community_cards, s_count=10000)\n",
        "n_sim = len(df)\n",
        "print(f\"Win Probability: {ev_win*100:.2f}%\")\n",
        "print(f\"Tie Probability: {ev_tie*100:.2f}%\")\n",
        "print(f\"Lose Probability: {ev_lose*100:.2f}%\\n\")\n",
        "ci = 1.96 * math.sqrt(ev_win * (1 - ev_win) / n_sim)\n",
        "print(f\"Win probability 95% CI: {ev_win*100:.2f}% ± {ci*100:.2f}%\")\n",
        "ci_tie = 1.96 * math.sqrt(ev_tie * (1 - ev_tie) / n_sim)\n",
        "print(f\"Tie probability 95% CI: {ci_tie*100:.2f}%\")\n",
        "print(\"User Hand Distribution (percentage over all simulations):\")\n",
        "for i, j in hand_distribution.items():\n",
        "    print(f\"{i}: {j:.2f}%\")\n"
      ],
      "metadata": {
        "colab": {
          "base_uri": "https://localhost:8080/"
        },
        "id": "3sMlNQe02zOT",
        "outputId": "2a96e2ea-9cc7-46fa-8ac6-d2e2b9e0e621"
      },
      "execution_count": 21,
      "outputs": [
        {
          "output_type": "stream",
          "name": "stdout",
          "text": [
            "\n",
            "Enter the turn card (1 card) in the format 'Rank+suits': KH\n",
            "\n",
            "--- After Turn ---\n",
            "Community cards: ['KS', '7C', '9H', 'KH']\n",
            "Win Probability: 57.50%\n",
            "Tie Probability: 5.88%\n",
            "Lose Probability: 36.62%\n",
            "\n",
            "Win probability 95% CI: 57.50% ± 0.97%\n",
            "Tie probability 95% CI: 0.46%\n",
            "User Hand Distribution (percentage over all simulations):\n",
            "Two Pair: 91.40%\n",
            "Full House: 8.60%\n"
          ]
        }
      ]
    },
    {
      "cell_type": "code",
      "source": [
        "plt.bar(hand_distribution.keys(),hand_distribution.values())\n",
        "plt.xticks(rotation=45)\n",
        "plt.ylabel(\"Percentage\")\n",
        "plt.title(\"User Hand Distribution (After Turn)\")\n",
        "plt.show()"
      ],
      "metadata": {
        "colab": {
          "base_uri": "https://localhost:8080/",
          "height": 499
        },
        "id": "Eqail7K829fM",
        "outputId": "c9df6eac-c3a1-4757-975e-d84acb743415"
      },
      "execution_count": 22,
      "outputs": [
        {
          "output_type": "display_data",
          "data": {
            "text/plain": [
              "<Figure size 640x480 with 1 Axes>"
            ],
            "image/png": "[encoded data removed]"
          },
          "metadata": {}
        }
      ]
    }
  ]
}